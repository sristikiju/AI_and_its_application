{
  "nbformat": 4,
  "nbformat_minor": 0,
  "metadata": {
    "colab": {
      "provenance": []
    },
    "kernelspec": {
      "name": "python3",
      "display_name": "Python 3"
    },
    "language_info": {
      "name": "python"
    }
  },
  "cells": [
    {
      "cell_type": "markdown",
      "source": [
        "###FILE HANDLING AND EXCEPTIONS"
      ],
      "metadata": {
        "id": "BF5WiY8-L3cl"
      }
    },
    {
      "cell_type": "markdown",
      "source": [
        "###OPENING AND READING A FILE"
      ],
      "metadata": {
        "id": "Qpp9ROgqMCOK"
      }
    },
    {
      "cell_type": "code",
      "execution_count": null,
      "metadata": {
        "colab": {
          "base_uri": "https://localhost:8080/"
        },
        "id": "7686AmWtL1gl",
        "outputId": "6699506e-c90e-477a-89ed-a977ee10c117"
      },
      "outputs": [
        {
          "output_type": "stream",
          "name": "stdout",
          "text": [
            "Today is a rainy day.\n",
            "tomorrow is holiday\n",
            "saturday is a boring day\n",
            "we are in a class\n",
            "\n"
          ]
        }
      ],
      "source": [
        "f= open(\"/content/sample_data/sample.txt\",\"r\")\n",
        "print(f.read())\n",
        "# a good practice to close a file with close()method/function\n",
        "f.close()"
      ]
    },
    {
      "cell_type": "code",
      "source": [
        "f=open(\"/content/sample_data/sample.txt\",\"r\")\n",
        "print(f.readline())\n",
        "print(f.read(3))\n",
        "f.close()\n"
      ],
      "metadata": {
        "colab": {
          "base_uri": "https://localhost:8080/"
        },
        "id": "85Nd3FXnOaYk",
        "outputId": "514553fc-4a95-4e78-ff2d-4261f3a7066e"
      },
      "execution_count": null,
      "outputs": [
        {
          "output_type": "stream",
          "name": "stdout",
          "text": [
            "Today is a rainy day.\n",
            "\n",
            "tom\n"
          ]
        }
      ]
    },
    {
      "cell_type": "markdown",
      "source": [
        "### Writing to a file\n",
        "\n"
      ],
      "metadata": {
        "id": "PelijfaiO7KR"
      }
    },
    {
      "cell_type": "code",
      "source": [
        "# Writing to the file\n",
        "with open(\"sample.txt\", \"w\") as f:\n",
        "    f.write(\"Python is great for AI\")\n",
        "\n",
        "# Reading from the file\n",
        "with open(\"sample.txt\", \"r\") as f:\n",
        "    content = f.read()\n",
        "    print(\"Content of the file:\")\n",
        "    print(content)\n"
      ],
      "metadata": {
        "colab": {
          "base_uri": "https://localhost:8080/"
        },
        "id": "DSlfFrujO_gC",
        "outputId": "ff7a8249-af10-4d62-a906-54c2b8d1e435"
      },
      "execution_count": null,
      "outputs": [
        {
          "output_type": "stream",
          "name": "stdout",
          "text": [
            "Content of the file:\n",
            "Python is great for AI\n"
          ]
        }
      ]
    },
    {
      "cell_type": "code",
      "source": [
        "## Non-existing file (it will be created automatically)\n",
        "\n",
        "with open(\"new.txt\", \"w\") as f:\n",
        "    f.write(\"I was created 5 sec ago!\")\n",
        "\n",
        "# Reading to verify\n",
        "with open(\"new.txt\", \"r\") as f:\n",
        "    content = f.read()\n",
        "    print(\"Content of the file:\")\n",
        "    print(content)\n",
        "\n"
      ],
      "metadata": {
        "colab": {
          "base_uri": "https://localhost:8080/"
        },
        "id": "UQqXzRsoO51h",
        "outputId": "896acee4-b6cd-4a3e-8cbf-c75d910ee361"
      },
      "execution_count": null,
      "outputs": [
        {
          "output_type": "stream",
          "name": "stdout",
          "text": [
            "Content of the file:\n",
            "I was created 5 sec ago!\n"
          ]
        }
      ]
    },
    {
      "cell_type": "markdown",
      "source": [
        "###APPENDING TO A FILE\n"
      ],
      "metadata": {
        "id": "ADcS2L8-QcqX"
      }
    },
    {
      "cell_type": "code",
      "source": [
        "# Appending to an existing file (or creating one if it doesn't exist)\n",
        "with open(\"new.txt\", \"a\") as f:\n",
        "    f.write(\"\\nI am not ok\")  # \\n means new line\n",
        "\n",
        "# Reading to verify\n",
        "with open(\"new.txt\", \"r\") as f:\n",
        "    content = f.read()\n",
        "    print(\"Updated file content:\")\n",
        "    print(content)"
      ],
      "metadata": {
        "colab": {
          "base_uri": "https://localhost:8080/"
        },
        "id": "SlaWjk5LQCgO",
        "outputId": "5b0ff3c4-0586-4549-832e-c90e4c3db9a8"
      },
      "execution_count": null,
      "outputs": [
        {
          "output_type": "stream",
          "name": "stdout",
          "text": [
            "Updated file content:\n",
            "I was created 5 sec ago!\n",
            "I am not ok\n"
          ]
        }
      ]
    },
    {
      "cell_type": "markdown",
      "source": [
        "###With operation\n"
      ],
      "metadata": {
        "id": "oMB_lheqRwv4"
      }
    },
    {
      "cell_type": "code",
      "source": [
        "f=open(\"new.txt\",\"r\")\n",
        "print(f.read())\n",
        "f.close()\n"
      ],
      "metadata": {
        "colab": {
          "base_uri": "https://localhost:8080/"
        },
        "id": "Ro2QxX3oRtYC",
        "outputId": "24b99414-0ace-49f3-e37a-e4dc6404b79c"
      },
      "execution_count": null,
      "outputs": [
        {
          "output_type": "stream",
          "name": "stdout",
          "text": [
            "guyuyj\n"
          ]
        }
      ]
    },
    {
      "cell_type": "code",
      "source": [
        "with open(\"new.txt\", \"r\") as file:\n",
        "    print(file.read())"
      ],
      "metadata": {
        "colab": {
          "base_uri": "https://localhost:8080/"
        },
        "id": "pV10VlCjSJb1",
        "outputId": "984222dd-bcb1-4af0-cacf-599edeb95edd"
      },
      "execution_count": null,
      "outputs": [
        {
          "output_type": "stream",
          "name": "stdout",
          "text": [
            "I was created 5 sec ago!\n",
            "I am not ok\n"
          ]
        }
      ]
    },
    {
      "cell_type": "markdown",
      "source": [
        "###Deleting A file\n"
      ],
      "metadata": {
        "id": "Xe0XpSmMSbze"
      }
    },
    {
      "cell_type": "code",
      "source": [
        "#Importing OS module\n",
        "\n",
        "import os\n",
        "\n",
        "os.remove(\"sample.txt\")\n"
      ],
      "metadata": {
        "id": "rk7MGafmSiQ8"
      },
      "execution_count": null,
      "outputs": []
    },
    {
      "cell_type": "markdown",
      "source": [
        "###BASIC EXCEPTION HANDLING"
      ],
      "metadata": {
        "id": "6P_I4FyZTzSF"
      }
    },
    {
      "cell_type": "code",
      "source": [
        "try:\n",
        "    print(a)\n",
        "except NameError:\n",
        "    print(\"Variable is not defined\")\n",
        "except Exception as e:\n",
        "    print(\"An error occurred:\", e)\n",
        "\n"
      ],
      "metadata": {
        "colab": {
          "base_uri": "https://localhost:8080/"
        },
        "id": "LftrHn7XT4AQ",
        "outputId": "3e1afb32-594f-4029-b986-3fa2bc48f702"
      },
      "execution_count": null,
      "outputs": [
        {
          "output_type": "stream",
          "name": "stdout",
          "text": [
            "Variable is not defined\n"
          ]
        }
      ]
    },
    {
      "cell_type": "code",
      "source": [
        "# First, write to the file\n",
        "with open(\"hello.txt\", \"w\") as f:\n",
        "    f.write(\"Hello, Srishti!\")\n",
        "\n",
        "# Then, open the file to read its content\n",
        "with open(\"hello.txt\", \"r\") as f:\n",
        "    content = f.read()\n",
        "    print(content)\n"
      ],
      "metadata": {
        "colab": {
          "base_uri": "https://localhost:8080/"
        },
        "id": "VzB06hq5bvp5",
        "outputId": "d6a0cfac-d66c-4419-f6db-298795b2ab2f"
      },
      "execution_count": null,
      "outputs": [
        {
          "output_type": "stream",
          "name": "stdout",
          "text": [
            "Hello, Srishti!\n"
          ]
        }
      ]
    },
    {
      "cell_type": "markdown",
      "source": [
        "##Append your name and favourite programming language to an existing file"
      ],
      "metadata": {
        "id": "COxIqKLfeRdz"
      }
    },
    {
      "cell_type": "code",
      "source": [
        "f=open(\"/content/name.txt\",\"a\")\n",
        "f.write(\"/nSristi\")\n",
        "f.write('/nPython')\n",
        "f.close()"
      ],
      "metadata": {
        "id": "klUarSerdrqR"
      },
      "execution_count": null,
      "outputs": []
    },
    {
      "cell_type": "code",
      "source": [],
      "metadata": {
        "id": "uG74CR8UgL0P"
      },
      "execution_count": null,
      "outputs": []
    },
    {
      "cell_type": "markdown",
      "source": [
        "###open a file using \"with\", read all lines and count how many lines it has"
      ],
      "metadata": {
        "id": "fR9ICKT9gaed"
      }
    },
    {
      "cell_type": "code",
      "source": [
        "\n",
        "\n",
        "# Append lines to the file\n",
        "with open(\"/content/name.txt\", \"a\") as f:\n",
        "    f.write(\"\\nSristi\")\n",
        "    f.write(\"\\nPython\")\n",
        "\n",
        "# Read and print the updated content\n",
        "with open(\"/content/name.txt\", \"r\") as f:\n",
        "    content = f.read()\n",
        "    print(\"Updated file content:\")\n",
        "    print(content)\n",
        "\n",
        "\n"
      ],
      "metadata": {
        "colab": {
          "base_uri": "https://localhost:8080/"
        },
        "id": "tk2yb_hEgn8b",
        "outputId": "4646b160-c44e-4d04-b87c-cb176c4632c6"
      },
      "execution_count": null,
      "outputs": [
        {
          "output_type": "stream",
          "name": "stdout",
          "text": [
            "Updated file content:\n",
            "/n Sristi/n Python/n Sristi/n Python/nSristi/nPython/nSristi/nPython\n",
            "Sristi\n",
            "Python\n"
          ]
        }
      ]
    },
    {
      "cell_type": "markdown",
      "source": [
        "###Write a program that takes two numbers and handles division safely using \"try-except\""
      ],
      "metadata": {
        "id": "w8Zev5QwhhIo"
      }
    },
    {
      "cell_type": "code",
      "source": [
        "try:\n",
        " a=int(input(\"enter num 1\"))\n",
        " b=int(input(\"enter num 2\"))\n",
        " c=a/b\n",
        " result=(\"result is\",c)\n",
        " print(result)\n",
        "\n",
        "except ZeroDivisionError:\n",
        "  print(\"error denominator cant be zero\")\n",
        "except ValueError:\n",
        "  print(\"error put valid num\")\n",
        "\n",
        "\n"
      ],
      "metadata": {
        "id": "hpRPZdXEhegV",
        "colab": {
          "base_uri": "https://localhost:8080/"
        },
        "outputId": "5992af37-e892-47b4-b1da-35a44997c209"
      },
      "execution_count": null,
      "outputs": [
        {
          "output_type": "stream",
          "name": "stdout",
          "text": [
            "enter num 167\n",
            "enter num 278\n",
            "('result is', 0.8589743589743589)\n"
          ]
        }
      ]
    },
    {
      "cell_type": "code",
      "source": [],
      "metadata": {
        "id": "JxaWzw_CcZPK"
      },
      "execution_count": null,
      "outputs": []
    },
    {
      "cell_type": "markdown",
      "source": [
        "###Copying a File with Error Handling in Python\"\n"
      ],
      "metadata": {
        "id": "aUga9K4oca1u"
      }
    },
    {
      "cell_type": "code",
      "source": [
        "try:\n",
        "    # Attempt to open the input file for reading\n",
        "    with open('/bin/input.txt', 'r') as infile:\n",
        "        content = infile.read()\n",
        "\n",
        "    # Attempt to open the output file for writing\n",
        "    with open('output.txt', 'w') as outfile:\n",
        "        outfile.write(content)\n",
        "    print(\"File copied successfully.\")\n",
        "\n",
        "except FileNotFoundError:\n",
        "    print(\"Error: The file 'input.txt' does not exist.\")\n",
        "\n",
        "except PermissionError:\n",
        "    print(\"Error: Permission denied. Unable to read/write the file.\")\n",
        "\n",
        "except Exception as e:\n",
        "    print(f\"An unexpected error occurred: {e}\")\n"
      ],
      "metadata": {
        "id": "gctzOG0Adz33",
        "colab": {
          "base_uri": "https://localhost:8080/"
        },
        "outputId": "1f2742ad-2a93-4a85-d390-dd6056d1eb11"
      },
      "execution_count": null,
      "outputs": [
        {
          "output_type": "stream",
          "name": "stdout",
          "text": [
            "Error: The file 'input.txt' does not exist.\n"
          ]
        }
      ]
    },
    {
      "cell_type": "markdown",
      "source": [],
      "metadata": {
        "id": "njgxSX81gCpu"
      }
    },
    {
      "cell_type": "markdown",
      "source": [
        "###Write A program that reads a file named data.txt count the number of lines in it and saves the count to a file called line_count.txt in the format \"TOTAL LINES:X.handle cases where the input file is missing or empty, and print appropriate messages.\n",
        "concepts:File reading, file writing,exception handling **bold text**"
      ],
      "metadata": {
        "id": "IC_nrRJFeuIa"
      }
    },
    {
      "cell_type": "code",
      "source": [
        "import numpy as np\n",
        "\n",
        "arr = np.arange(6).reshape(2, 3)\n",
        "\n",
        "print(arr)\n",
        "\n"
      ],
      "metadata": {
        "colab": {
          "base_uri": "https://localhost:8080/"
        },
        "id": "xDMGV20YgEP-",
        "outputId": "6a48af37-3e55-40bd-ccd6-c2e47e99027a"
      },
      "execution_count": null,
      "outputs": [
        {
          "output_type": "stream",
          "name": "stdout",
          "text": [
            "[[0 1 2]\n",
            " [3 4 5]]\n"
          ]
        }
      ]
    },
    {
      "cell_type": "code",
      "source": [
        "import numpy as np\n",
        "\n",
        "arr = np.array([5, -5, 2, 3, -2])\n",
        "b = arr.sum()\n",
        "print(b)"
      ],
      "metadata": {
        "colab": {
          "base_uri": "https://localhost:8080/"
        },
        "id": "l9dm7k-WTpfR",
        "outputId": "55c6898e-8016-428a-f97d-9d0adb7f7ba0"
      },
      "execution_count": null,
      "outputs": [
        {
          "output_type": "stream",
          "name": "stdout",
          "text": [
            "3\n"
          ]
        }
      ]
    },
    {
      "cell_type": "code",
      "source": [],
      "metadata": {
        "id": "Wb9GnHPsIfuU"
      },
      "execution_count": null,
      "outputs": []
    }
  ]
}