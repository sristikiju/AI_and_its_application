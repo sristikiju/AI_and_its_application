{
  "nbformat": 4,
  "nbformat_minor": 0,
  "metadata": {
    "colab": {
      "provenance": []
    },
    "kernelspec": {
      "name": "python3",
      "display_name": "Python 3"
    },
    "language_info": {
      "name": "python"
    }
  },
  "cells": [
    {
      "cell_type": "code",
      "execution_count": null,
      "metadata": {
        "id": "uakjZAlPV_Zh"
      },
      "outputs": [],
      "source": []
    },
    {
      "cell_type": "markdown",
      "source": [
        "###NUMPY BASICS"
      ],
      "metadata": {
        "id": "t6Gkcu29WCSi"
      }
    },
    {
      "cell_type": "markdown",
      "source": [
        "###CREATING A NUMPY ARRAY"
      ],
      "metadata": {
        "id": "ljdYiofvWGxn"
      }
    },
    {
      "cell_type": "code",
      "source": [
        "#creating a 1-D array through numpy on a list.\n",
        "\n",
        "import numpy as np\n",
        "\n",
        "\n",
        "list_a = [2,5,8,9]\n",
        "numpy_array=np.array(list_a)\n",
        "print(numpy_array)"
      ],
      "metadata": {
        "colab": {
          "base_uri": "https://localhost:8080/"
        },
        "id": "8iTi7DfrWFNu",
        "outputId": "f0947c09-8120-4db4-8eec-092b84fe6fd7"
      },
      "execution_count": null,
      "outputs": [
        {
          "output_type": "stream",
          "name": "stdout",
          "text": [
            "[2 5 8 9]\n"
          ]
        }
      ]
    },
    {
      "cell_type": "code",
      "source": [],
      "metadata": {
        "id": "vMRTtWqgvWvf"
      },
      "execution_count": null,
      "outputs": []
    },
    {
      "cell_type": "code",
      "source": [
        "import numpy"
      ],
      "metadata": {
        "id": "Cd_N9EjuX-Zv"
      },
      "execution_count": null,
      "outputs": []
    },
    {
      "cell_type": "code",
      "source": [
        "#code to find the dimension of defined array\n",
        " print(one_d_numpy_array.ndim)\n",
        " print(zero_d_numpy_array.ndim)\n"
      ],
      "metadata": {
        "colab": {
          "base_uri": "https://localhost:8080/",
          "height": 106
        },
        "id": "Rpn7SekEYcA1",
        "outputId": "f1b16a88-9400-44ba-8909-0e8fd8c1cae5"
      },
      "execution_count": null,
      "outputs": [
        {
          "output_type": "error",
          "ename": "IndentationError",
          "evalue": "unexpected indent (<ipython-input-11-9de802689c1a>, line 2)",
          "traceback": [
            "\u001b[0;36m  File \u001b[0;32m\"<ipython-input-11-9de802689c1a>\"\u001b[0;36m, line \u001b[0;32m2\u001b[0m\n\u001b[0;31m    print(one_d_numpy_array.ndim)\u001b[0m\n\u001b[0m    ^\u001b[0m\n\u001b[0;31mIndentationError\u001b[0m\u001b[0;31m:\u001b[0m unexpected indent\n"
          ]
        }
      ]
    },
    {
      "cell_type": "code",
      "source": [
        "arr=[[1,2,3,],[4,5,6,]]\n",
        "two_d_numpy_array = np.array(arr)\n",
        "print(two_d_numpy_array.ndim)"
      ],
      "metadata": {
        "colab": {
          "base_uri": "https://localhost:8080/"
        },
        "id": "ahym24vrZouM",
        "outputId": "6dfcdab0-5896-4ade-de96-11709510241e"
      },
      "execution_count": null,
      "outputs": [
        {
          "output_type": "stream",
          "name": "stdout",
          "text": [
            "2\n"
          ]
        }
      ]
    },
    {
      "cell_type": "code",
      "source": [
        "#creating array and its attributes\n",
        "a=[5,7,9,11,13]\n",
        "arr=np.array(a)\n",
        "arr = np.array(a)\n",
        "print(arr)\n"
      ],
      "metadata": {
        "colab": {
          "base_uri": "https://localhost:8080/"
        },
        "id": "0yU7IVqmaX6v",
        "outputId": "06f06451-00cf-4ab5-eb6e-9ba40ae13a54"
      },
      "execution_count": null,
      "outputs": [
        {
          "output_type": "stream",
          "name": "stdout",
          "text": [
            "[ 5  7  9 11 13]\n"
          ]
        }
      ]
    },
    {
      "cell_type": "code",
      "source": [
        "a=[[1,2,3,4],[3,5,6,7]]# creating a list\n",
        "\n",
        "print(arr)#creating the list into numpy array\n",
        "print(arr.shape)#2 row 3 column\n",
        "print(arr.ndim)#dimension of array\n",
        "print(arr.size)#size of array\n",
        "print(arr.dtype)#data type of array\n"
      ],
      "metadata": {
        "colab": {
          "base_uri": "https://localhost:8080/"
        },
        "id": "PK2bM08Gb0Qy",
        "outputId": "b0b1de37-0638-4fc9-9dd4-00def3c07108"
      },
      "execution_count": null,
      "outputs": [
        {
          "output_type": "stream",
          "name": "stdout",
          "text": [
            "[ 5  7  9 11 13]\n",
            "(5,)\n",
            "1\n",
            "5\n",
            "int64\n"
          ]
        }
      ]
    },
    {
      "cell_type": "code",
      "source": [],
      "metadata": {
        "id": "UcsaJZS8jfFG"
      },
      "execution_count": null,
      "outputs": []
    },
    {
      "cell_type": "markdown",
      "source": [
        "###numpy array indexes\n"
      ],
      "metadata": {
        "id": "F2dVnJVCjfxD"
      }
    },
    {
      "cell_type": "code",
      "source": [
        "#changing the list in array\n",
        "arr=np.array([1,2,3,4,5,6,7,8,9,])\n",
        "print(arr[0])\n",
        "print(arr[2]+arr[4])\n"
      ],
      "metadata": {
        "colab": {
          "base_uri": "https://localhost:8080/"
        },
        "id": "S2dnSFBjjkVA",
        "outputId": "22c570b6-f3a6-4bbd-c40c-c139fde51da7"
      },
      "execution_count": null,
      "outputs": [
        {
          "output_type": "stream",
          "name": "stdout",
          "text": [
            "1\n",
            "8\n"
          ]
        }
      ]
    },
    {
      "cell_type": "code",
      "source": [
        "arr_2d=np.array([[1,2,3,4],[5,6,7,8]])\n",
        "#2d array\n",
        "print(arr_2d[1,2])\n",
        "print(arr_2d[0,1])\n"
      ],
      "metadata": {
        "colab": {
          "base_uri": "https://localhost:8080/"
        },
        "id": "OPhhKr3zlyMs",
        "outputId": "1472b2e8-7244-4e53-c950-ff6e683d7cc3"
      },
      "execution_count": null,
      "outputs": [
        {
          "output_type": "stream",
          "name": "stdout",
          "text": [
            "7\n",
            "2\n"
          ]
        }
      ]
    },
    {
      "cell_type": "code",
      "source": [
        "arr_3d=np.array([[[1,2,3],[4,5,6],[5,6,7],[7,8,9]]]) #3d array\n",
        "print(arr_3d[0,0,0])\n",
        "\n",
        "\n",
        "\n",
        "\n"
      ],
      "metadata": {
        "colab": {
          "base_uri": "https://localhost:8080/"
        },
        "id": "y8k0dkF8oXjR",
        "outputId": "b9765c70-2f39-4d0e-a46c-300ea4bfb44b"
      },
      "execution_count": null,
      "outputs": [
        {
          "output_type": "stream",
          "name": "stdout",
          "text": [
            "1\n"
          ]
        }
      ]
    },
    {
      "cell_type": "code",
      "source": [
        "###Negative Indexing"
      ],
      "metadata": {
        "id": "pcLf0C3qrZeI"
      },
      "execution_count": null,
      "outputs": []
    },
    {
      "cell_type": "markdown",
      "source": [
        "###Negative indexing"
      ],
      "metadata": {
        "id": "FPygBVpDrhYC"
      }
    },
    {
      "cell_type": "markdown",
      "source": [
        "###slicing in numpy_array"
      ],
      "metadata": {
        "id": "WWHaUQYKrnGm"
      }
    },
    {
      "cell_type": "code",
      "source": [
        "arr=np.array([1,2,3,4,5,6,7,8,9])#[start:end] #start:end:step]\n",
        "print(arr[1:5:2])\n"
      ],
      "metadata": {
        "colab": {
          "base_uri": "https://localhost:8080/"
        },
        "id": "PbKwbC0_rdab",
        "outputId": "08bda28b-3826-4903-a954-0a3733d61105"
      },
      "execution_count": null,
      "outputs": [
        {
          "output_type": "stream",
          "name": "stdout",
          "text": [
            "[2 4]\n"
          ]
        }
      ]
    },
    {
      "cell_type": "code",
      "source": [
        "arr_2d=np.array([[2,4,6,8,11],[1,3,5,7,9]])\n",
        "print(arr_2d[1,0:3])\n",
        "print(arr_2d[0,1:-2])"
      ],
      "metadata": {
        "colab": {
          "base_uri": "https://localhost:8080/"
        },
        "id": "_oAwZPkstKHg",
        "outputId": "1187121e-bd67-43cf-f566-9d8dcbf7a5da"
      },
      "execution_count": null,
      "outputs": [
        {
          "output_type": "stream",
          "name": "stdout",
          "text": [
            "[1 3 5]\n",
            "[4 6]\n"
          ]
        }
      ]
    },
    {
      "cell_type": "code",
      "source": [
        "#create a 2d array and find its dimension and shape\n",
        "=np.array([[5,10,15],[20,25,30]])\n",
        "print(arr_2d.ndim)\n",
        "print(arr_2d.shape)\n"
      ],
      "metadata": {
        "colab": {
          "base_uri": "https://localhost:8080/"
        },
        "id": "aYa9mYMcvtR4",
        "outputId": "223fe645-5106-407e-ef95-8b1736351860"
      },
      "execution_count": null,
      "outputs": [
        {
          "output_type": "stream",
          "name": "stdout",
          "text": [
            "2\n",
            "(2, 3)\n"
          ]
        }
      ]
    },
    {
      "cell_type": "code",
      "source": [
        "#3.use\n",
        "arr=np.zeros([2,3])\n",
        "print(arr)\n",
        "\n",
        "arrr=np.arange(0,13,3)\n",
        "print(arrr)\n",
        "\n"
      ],
      "metadata": {
        "colab": {
          "base_uri": "https://localhost:8080/"
        },
        "id": "AzpGa0yVwaGe",
        "outputId": "20ec7291-c205-4566-c603-53c685105911"
      },
      "execution_count": null,
      "outputs": [
        {
          "output_type": "stream",
          "name": "stdout",
          "text": [
            "[[0. 0. 0.]\n",
            " [0. 0. 0.]]\n",
            "[ 0  3  6  9 12]\n"
          ]
        }
      ]
    },
    {
      "cell_type": "code",
      "source": [
        "#create a numpy array and print it\n",
        "arr=np.array([7,14,21,28])\n",
        "print(arr)"
      ],
      "metadata": {
        "colab": {
          "base_uri": "https://localhost:8080/"
        },
        "id": "TLsYqi6UxFv3",
        "outputId": "6019dcfd-34e2-4bf3-e0d3-6b4da286e5df"
      },
      "execution_count": null,
      "outputs": [
        {
          "output_type": "stream",
          "name": "stdout",
          "text": [
            "[ 7 14 21 28]\n"
          ]
        }
      ]
    },
    {
      "cell_type": "code",
      "source": [
        "arr=np.array([2,4,6,8])\n",
        "res=arr*3\n",
        "print(res)\n"
      ],
      "metadata": {
        "colab": {
          "base_uri": "https://localhost:8080/"
        },
        "id": "8WU8o_zfzB_z",
        "outputId": "ad48a14d-aee4-4e50-e474-5bc9dad535e1"
      },
      "execution_count": null,
      "outputs": [
        {
          "output_type": "stream",
          "name": "stdout",
          "text": [
            "[ 6 12 18 24]\n"
          ]
        }
      ]
    },
    {
      "cell_type": "code",
      "source": [
        "arr=np.array([1,3,5,7,9,11])\n",
        "print(arr[2])\n",
        "print(arr[1:3])"
      ],
      "metadata": {
        "colab": {
          "base_uri": "https://localhost:8080/"
        },
        "id": "2dhLZ3e3zOy7",
        "outputId": "eddeb935-996f-4186-dd89-9bbdfc3e6b18"
      },
      "execution_count": null,
      "outputs": [
        {
          "output_type": "stream",
          "name": "stdout",
          "text": [
            "5\n",
            "[3 5]\n"
          ]
        }
      ]
    },
    {
      "cell_type": "code",
      "source": [
        "#4.\n",
        "import numpy as np\n",
        "arr=np.array([2,4,6,8])\n",
        "result=arr*3\n",
        "print(result)\n"
      ],
      "metadata": {
        "colab": {
          "base_uri": "https://localhost:8080/"
        },
        "id": "4TqJ22H4GgTe",
        "outputId": "db43cabf-07a7-43ab-9fbf-2049a325b155"
      },
      "execution_count": null,
      "outputs": [
        {
          "output_type": "stream",
          "name": "stdout",
          "text": [
            "[ 6 12 18 24]\n"
          ]
        }
      ]
    },
    {
      "cell_type": "code",
      "source": [
        "import numpy as np\n",
        "arr=np.array([1,3,5,7,9,11])\n",
        "print(arr[2])\n",
        "print(arr[1:4])\n",
        "\n",
        "\n"
      ],
      "metadata": {
        "colab": {
          "base_uri": "https://localhost:8080/"
        },
        "id": "uaKbPgJEHGpW",
        "outputId": "f03e0d3d-5321-4533-bfaf-3e9abe3712ea"
      },
      "execution_count": null,
      "outputs": [
        {
          "output_type": "stream",
          "name": "stdout",
          "text": [
            "5\n",
            "[3 5 7]\n"
          ]
        }
      ]
    },
    {
      "cell_type": "markdown",
      "source": [
        "##Hands-On Practice:Pandas and Matpotlib"
      ],
      "metadata": {
        "id": "z3g9AqhPL7T5"
      }
    },
    {
      "cell_type": "markdown",
      "source": [
        "##Exercise 1 :Creating a Pandas Series"
      ],
      "metadata": {
        "id": "TV9k7W70Me1g"
      }
    },
    {
      "cell_type": "markdown",
      "source": [
        "\n",
        "##Pandas series=1-D array with labels"
      ],
      "metadata": {
        "id": "JH6CR66tMinA"
      }
    },
    {
      "cell_type": "code",
      "source": [
        "\n",
        "\n",
        "#importing pandas library\n",
        "import pandas as pd\n",
        "\n",
        "###Creating a series with.series()method function and printing the series\n",
        "scores = pd.Series([67,89,12,45],index=['Aarav','Bina','Cindrella','Diana'])\n",
        "print(scores)"
      ],
      "metadata": {
        "colab": {
          "base_uri": "https://localhost:8080/"
        },
        "id": "sK07FFchL_uo",
        "outputId": "19cab257-255a-498e-a824-e37947b8041a"
      },
      "execution_count": null,
      "outputs": [
        {
          "output_type": "stream",
          "name": "stdout",
          "text": [
            "Aarav        67\n",
            "Bina         89\n",
            "Cindrella    12\n",
            "Diana        45\n",
            "dtype: int64\n"
          ]
        }
      ]
    },
    {
      "cell_type": "markdown",
      "source": [
        "###Exercise 2 : creating a Pandas Dataframe"
      ],
      "metadata": {
        "id": "XuKNtHpAMqR6"
      }
    },
    {
      "cell_type": "markdown",
      "source": [
        "###Dataframe is in a table format"
      ],
      "metadata": {
        "id": "dPtHWO-FMyVx"
      }
    },
    {
      "cell_type": "code",
      "source": [
        "import pandas as pd\n",
        "\n",
        "data = {\n",
        "    \"Name\": [\"A\", \"B\", \"C\"],\n",
        "    \"Age\": [2, 3, 4],\n",
        "    \"Score\": [45, 78, 90]\n",
        "}\n",
        "\n",
        "df = pd.DataFrame(data)\n",
        "print(df)\n"
      ],
      "metadata": {
        "colab": {
          "base_uri": "https://localhost:8080/"
        },
        "id": "r2pbx46UMIMG",
        "outputId": "4c9d9203-16e2-40a6-edb3-1e2d3f1a6893"
      },
      "execution_count": null,
      "outputs": [
        {
          "output_type": "stream",
          "name": "stdout",
          "text": [
            "  Name  Age  Score\n",
            "0    A    2     45\n",
            "1    B    3     78\n",
            "2    C    4     90\n"
          ]
        }
      ]
    },
    {
      "cell_type": "code",
      "source": [],
      "metadata": {
        "id": "YbXCAXxMM717"
      },
      "execution_count": null,
      "outputs": []
    }
  ]
}