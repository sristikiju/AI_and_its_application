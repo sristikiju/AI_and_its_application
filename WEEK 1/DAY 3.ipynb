{
  "nbformat": 4,
  "nbformat_minor": 0,
  "metadata": {
    "colab": {
      "provenance": []
    },
    "kernelspec": {
      "name": "python3",
      "display_name": "Python 3"
    },
    "language_info": {
      "name": "python"
    }
  },
  "cells": [
    {
      "cell_type": "markdown",
      "source": [
        "###Practice Exercises\n",
        "\n",
        "\n",
        "\n",
        "\n",
        "\n",
        "\n",
        "\n"
      ],
      "metadata": {
        "id": "elzm9oUcvXKm"
      }
    },
    {
      "cell_type": "code",
      "execution_count": null,
      "metadata": {
        "colab": {
          "base_uri": "https://localhost:8080/"
        },
        "id": "ImdIusYavH-g",
        "outputId": "109f6cb6-f881-4fc2-8fd5-efb973e3dfa2"
      },
      "outputs": [
        {
          "output_type": "stream",
          "name": "stdout",
          "text": [
            "0.49999999999999994\n"
          ]
        }
      ],
      "source": [
        "#1.Import math and calculate sine of 30degrees using math.sin(math,radians(30)),\n",
        "\n",
        "import math\n",
        "result=math.sin(math.radians(30))\n",
        "print(result)\n"
      ]
    },
    {
      "cell_type": "code",
      "source": [],
      "metadata": {
        "id": "BRr1ESBG04_Y"
      },
      "execution_count": null,
      "outputs": []
    },
    {
      "cell_type": "code",
      "source": [
        "#2.Import random as rng and generate a random integer between 50-75\n",
        "\n",
        "import random as rng\n",
        "random_number=rng.randint(50,75)\n",
        "print(random_number)"
      ],
      "metadata": {
        "colab": {
          "base_uri": "https://localhost:8080/"
        },
        "id": "4Hgh-XwXwWuV",
        "outputId": "476b5b36-366b-44b2-e64c-9689ccc7abdb"
      },
      "execution_count": null,
      "outputs": [
        {
          "output_type": "stream",
          "name": "stdout",
          "text": [
            "57\n"
          ]
        }
      ]
    },
    {
      "cell_type": "code",
      "source": [
        "#3.Create calc.py with square function import and print square of 8.\n",
        "#calc.py\n",
        "def square(n):\n",
        "    return n*n\n",
        "print(square(8)) #import square\n",
        "\n"
      ],
      "metadata": {
        "colab": {
          "base_uri": "https://localhost:8080/"
        },
        "id": "aAzuaIILw3Kb",
        "outputId": "9c70c1cc-8815-4f1e-9e3b-05f08c597ac1"
      },
      "execution_count": null,
      "outputs": [
        {
          "output_type": "stream",
          "name": "stdout",
          "text": [
            "64\n"
          ]
        }
      ]
    },
    {
      "cell_type": "code",
      "source": [
        "#4.Import choice from random, pick from fruits list [\"mango\",\"apple\",\"grape\n",
        "\n",
        "from random import choice\n",
        "fruits=[\"mango\",\"apple\",\"grapes\"]\n",
        "random_fruits=choice(fruits)\n",
        "print(random_fruits)\n"
      ],
      "metadata": {
        "colab": {
          "base_uri": "https://localhost:8080/"
        },
        "id": "kehS9e6TyiRP",
        "outputId": "15409b24-56da-412f-ac62-a07a0bde057c"
      },
      "execution_count": null,
      "outputs": [
        {
          "output_type": "stream",
          "name": "stdout",
          "text": [
            "grapes\n"
          ]
        }
      ]
    },
    {
      "cell_type": "markdown",
      "source": [
        "###HOME ASSIGNMENTS\n"
      ],
      "metadata": {
        "id": "28wH802QyfVR"
      }
    },
    {
      "cell_type": "markdown",
      "source": [
        "###TUPLES AND SETS"
      ],
      "metadata": {
        "id": "482fq1NaAFAK"
      }
    },
    {
      "cell_type": "code",
      "source": [
        "#1.TUPLES\n",
        "\n",
        "fruits=(\"apple\",\"banana\",\"mango\")\n",
        "print(fruits[0])\n",
        "\n",
        "\n"
      ],
      "metadata": {
        "id": "IMC73fNjyeZZ",
        "colab": {
          "base_uri": "https://localhost:8080/"
        },
        "outputId": "bc59e157-481e-4045-9b35-9a41a6109db2"
      },
      "execution_count": null,
      "outputs": [
        {
          "output_type": "stream",
          "name": "stdout",
          "text": [
            "apple\n"
          ]
        }
      ]
    },
    {
      "cell_type": "code",
      "source": [
        "#2.sets\n",
        "\n",
        "colors={\"red\",\"green\",\"blue\"}\n",
        "colors.add(\"yellow\")\n",
        "print(colors)"
      ],
      "metadata": {
        "colab": {
          "base_uri": "https://localhost:8080/"
        },
        "id": "INj3WbYXAOpp",
        "outputId": "c29a9917-3543-47c5-8a96-794e8b4d01e3"
      },
      "execution_count": null,
      "outputs": [
        {
          "output_type": "stream",
          "name": "stdout",
          "text": [
            "{'green', 'blue', 'yellow', 'red'}\n"
          ]
        }
      ]
    },
    {
      "cell_type": "markdown",
      "source": [
        "###EXPERIMENT WITH FUNCTION ALIASING"
      ],
      "metadata": {
        "id": "TCPSPXquAVf6"
      }
    },
    {
      "cell_type": "code",
      "source": [
        "#EXAMPLE 1. ALIASING A CUSTOM FUNCTION\n",
        "def greet(name):\n",
        "    return f\"Hello,{name}!\"\n",
        "say_hello=greet\n",
        "print(say_hello(\"sristi\"))"
      ],
      "metadata": {
        "colab": {
          "base_uri": "https://localhost:8080/"
        },
        "id": "IiBFcBhzASJx",
        "outputId": "1895abb7-020a-4fbc-9185-793af33edf51"
      },
      "execution_count": null,
      "outputs": [
        {
          "output_type": "stream",
          "name": "stdout",
          "text": [
            "Hello,sristi!\n"
          ]
        }
      ]
    },
    {
      "cell_type": "code",
      "source": [
        "#Example 2. Aliasing a built-in function\n",
        "\n",
        "import math\n",
        "sine=math.sin\n",
        "print(sine(math.radians(30)))"
      ],
      "metadata": {
        "colab": {
          "base_uri": "https://localhost:8080/"
        },
        "id": "yc5I479-Bcnn",
        "outputId": "2a244429-f25a-46a7-f0bb-b281f51f3d7d"
      },
      "execution_count": null,
      "outputs": [
        {
          "output_type": "stream",
          "name": "stdout",
          "text": [
            "0.49999999999999994\n"
          ]
        }
      ]
    },
    {
      "cell_type": "code",
      "source": [
        "from ast import Add\n",
        "#Example 3.Changing behaviour with aliasing\n",
        "\n",
        "def add(a,b):\n",
        "  return a+b\n",
        "sum_numbers= add\n",
        "print(sum_numbers(5,3))\n",
        "\n"
      ],
      "metadata": {
        "colab": {
          "base_uri": "https://localhost:8080/"
        },
        "id": "oxyPFXY-Bgq0",
        "outputId": "229b235a-153b-4504-e97f-9f8cb410ee1d"
      },
      "execution_count": null,
      "outputs": [
        {
          "output_type": "stream",
          "name": "stdout",
          "text": [
            "8\n"
          ]
        }
      ]
    },
    {
      "cell_type": "code",
      "source": [
        "#Redine add,but alias still works\n",
        "\n",
        "def add(a,b):\n",
        "    return a-b\n",
        "print(add(5,3))\n",
        "print(sum_numbers(5,3))\n"
      ],
      "metadata": {
        "colab": {
          "base_uri": "https://localhost:8080/"
        },
        "id": "Bf7DZkvUBogM",
        "outputId": "05ecf8e4-1d17-4c30-9258-d1a07d51c856"
      },
      "execution_count": null,
      "outputs": [
        {
          "output_type": "stream",
          "name": "stdout",
          "text": [
            "2\n",
            "8\n"
          ]
        }
      ]
    },
    {
      "cell_type": "code",
      "source": [],
      "metadata": {
        "id": "LmO4eRqVBrlD"
      },
      "execution_count": null,
      "outputs": []
    },
    {
      "cell_type": "markdown",
      "source": [
        "### EXPLORE MORE MODULES WITH FUNCTIONS / METHODS EXCEPT FOR MATHS\n"
      ],
      "metadata": {
        "id": "dzV1rJtzBzRT"
      }
    },
    {
      "cell_type": "code",
      "source": [
        "#1.DATE TIME\n",
        "from datetime import datetime\n",
        "now=datetime.now()\n",
        "print(\"current time:\",now.strftime(\"Y-%M-%d %H: %M:%s\"))"
      ],
      "metadata": {
        "id": "YyzbB2ycB3CU",
        "colab": {
          "base_uri": "https://localhost:8080/"
        },
        "outputId": "2db99d43-76b5-403b-cfa3-ef74c9ba9e2e"
      },
      "execution_count": null,
      "outputs": [
        {
          "output_type": "stream",
          "name": "stdout",
          "text": [
            "current time: Y-34-19 16: 34:1750350841\n"
          ]
        }
      ]
    },
    {
      "cell_type": "code",
      "source": [
        "#2. random-Generate random values\n",
        "\n",
        "import random\n",
        "\n",
        "print(random.randint(1, 10))\n",
        "print(random.choice(['a','b','c']))\n"
      ],
      "metadata": {
        "colab": {
          "base_uri": "https://localhost:8080/"
        },
        "id": "2Juo6texCkaX",
        "outputId": "ab52cc82-9379-47f2-d08b-94264d6fbb44"
      },
      "execution_count": null,
      "outputs": [
        {
          "output_type": "stream",
          "name": "stdout",
          "text": [
            "3\n",
            "b\n"
          ]
        }
      ]
    },
    {
      "cell_type": "code",
      "source": [
        "\n",
        "\n",
        "\n",
        "\n",
        "-"
      ],
      "metadata": {
        "id": "HUOhT3sLCnvv"
      },
      "execution_count": null,
      "outputs": []
    }
  ]
}