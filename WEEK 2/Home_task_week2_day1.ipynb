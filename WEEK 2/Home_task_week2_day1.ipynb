{
  "nbformat": 4,
  "nbformat_minor": 0,
  "metadata": {
    "colab": {
      "provenance": []
    },
    "kernelspec": {
      "name": "python3",
      "display_name": "Python 3"
    },
    "language_info": {
      "name": "python"
    }
  },
  "cells": [
    {
      "cell_type": "markdown",
      "source": [
        "##Create a DataFrame with columns \"Months\"([\"Jan\",\"Feb\",\"Mar\"])\n",
        "\n",
        "\n"
      ],
      "metadata": {
        "id": "eARC9GgFJmK0"
      }
    },
    {
      "cell_type": "code",
      "source": [
        "import pandas as pd\n",
        "df = pd.DataFrame({\n",
        "    \"Month\": [\"Jan\", \"Feb\", \"Mar\"],\n",
        "    \"Sales\": [100, 150, 200]\n",
        "})\n",
        "print(df)\n"
      ],
      "metadata": {
        "colab": {
          "base_uri": "https://localhost:8080/"
        },
        "id": "TSNovL-OUQpn",
        "outputId": "c5dc08d6-f3c0-4359-aa77-9b86794e94d4"
      },
      "execution_count": null,
      "outputs": [
        {
          "output_type": "stream",
          "name": "stdout",
          "text": [
            "  Month  Sales\n",
            "0   Jan    100\n",
            "1   Feb    150\n",
            "2   Mar    200\n"
          ]
        }
      ]
    },
    {
      "cell_type": "code",
      "source": [
        "import matplotlib.pyplot as p\n",
        "months = ['Jan', 'Feb', 'Mar', 'Apr', 'May', 'Jun']\n",
        "sales = [250, 300, 280, 350, 400, 370]\n",
        "plt.bar(months, sales)\n",
        "plt.xlabel('Month')\n",
        "plt.ylabel('Sales')\n",
        "plt.title('Monthly Sales')\n",
        "plt.savefig('salesplot.png')\n",
        "\n",
        "plt.show()"
      ],
      "metadata": {
        "colab": {
          "base_uri": "https://localhost:8080/",
          "height": 472
        },
        "id": "G9Wv0uIfFkFe",
        "outputId": "0e12d517-9e64-4487-9602-5b2eedeae594"
      },
      "execution_count": null,
      "outputs": [
        {
          "output_type": "display_data",
          "data": {
            "text/plain": [
              "<Figure size 640x480 with 1 Axes>"
            ],
            "image/png": "[encoded data removed]"
          },
          "metadata": {}
        }
      ]
    },
    {
      "cell_type": "code",
      "source": [],
      "metadata": {
        "id": "LeuW4nW4IFen"
      },
      "execution_count": null,
      "outputs": []
    },
    {
      "cell_type": "markdown",
      "source": [],
      "metadata": {
        "id": "hVGDysanOcP4"
      }
    },
    {
      "cell_type": "markdown",
      "source": [
        "##Task 1: Create a Pandas Series with values [15, 25, 35, 45]. Calculate and print\n",
        "# the mean.\n"
      ],
      "metadata": {
        "id": "Ub0dKa8bOpFe"
      }
    },
    {
      "cell_type": "code",
      "source": [
        "import pandas as pd\n",
        "\n",
        "data = pd.Series([15,25,35,45])\n",
        "print(\"Original Data: \",data)\n",
        "\n",
        "mean = data.mean()\n",
        "print(\"Mean of the data:\",mean)"
      ],
      "metadata": {
        "colab": {
          "base_uri": "https://localhost:8080/"
        },
        "id": "oQfajXPmObPk",
        "outputId": "06e9aa93-465e-460d-a3f7-a350c40e5933"
      },
      "execution_count": null,
      "outputs": [
        {
          "output_type": "stream",
          "name": "stdout",
          "text": [
            "Original Data:  0    15\n",
            "1    25\n",
            "2    35\n",
            "3    45\n",
            "dtype: int64\n",
            "Mean of the data: 30.0\n"
          ]
        }
      ]
    },
    {
      "cell_type": "markdown",
      "source": [
        "### Task 2: Create a Pandas Series with values [12, 8, 16, 4]. Calculate and print\n",
        "# the median."
      ],
      "metadata": {
        "id": "k9CAIyycPF57"
      }
    },
    {
      "cell_type": "code",
      "source": [
        "import pandas as pd\n",
        "\n",
        "data = pd.Series([12,8,16,4])\n",
        "print(\"Original Data: \",data)\n",
        "\n",
        "median = data.median()\n",
        "print(\"Mean of the data:\",median)"
      ],
      "metadata": {
        "colab": {
          "base_uri": "https://localhost:8080/"
        },
        "id": "ce7WaAeFPHP_",
        "outputId": "6230b49f-34e7-41f6-a4fe-6adf26f96e59"
      },
      "execution_count": null,
      "outputs": [
        {
          "output_type": "stream",
          "name": "stdout",
          "text": [
            "Original Data:  0    12\n",
            "1     8\n",
            "2    16\n",
            "3     4\n",
            "dtype: int64\n",
            "Mean of the data: 10.0\n"
          ]
        }
      ]
    },
    {
      "cell_type": "markdown",
      "source": [
        "Task 3: Create a Pandas Series with values [2, 4, 2, 6, 4, 2]. Calculate and print\n",
        "# the mode."
      ],
      "metadata": {
        "id": "9P6OIVS1Pmg-"
      }
    },
    {
      "cell_type": "code",
      "source": [
        "import pandas as pd\n",
        "\n",
        "data = pd.Series([2,4,2,6,4,2])\n",
        "print(\"Original Data: \",data)\n",
        "\n",
        "mode = data.mode()\n",
        "print(\"Mean of the data:\",mode)"
      ],
      "metadata": {
        "colab": {
          "base_uri": "https://localhost:8080/"
        },
        "id": "lwTIiJikPnR2",
        "outputId": "8adbbcb5-f699-46af-d81c-7b86244c8d18"
      },
      "execution_count": null,
      "outputs": [
        {
          "output_type": "stream",
          "name": "stdout",
          "text": [
            "Original Data:  0    2\n",
            "1    4\n",
            "2    2\n",
            "3    6\n",
            "4    4\n",
            "5    2\n",
            "dtype: int64\n",
            "Mean of the data: 0    2\n",
            "dtype: int64\n"
          ]
        }
      ]
    },
    {
      "cell_type": "markdown",
      "source": [
        "##Task 4: Create a Pandas Series with values [7, 14, 21, 28]. Calculate and print\n",
        "# the range.\\"
      ],
      "metadata": {
        "id": "r38yhXtmQAdn"
      }
    },
    {
      "cell_type": "code",
      "source": [
        "data= pd.Series([7,14,21,28])\n",
        "\n",
        "range = data.max()-data.min()\n",
        "print(\"The range of the data is: \",range)\n"
      ],
      "metadata": {
        "colab": {
          "base_uri": "https://localhost:8080/"
        },
        "id": "DL5zB7vyQDo-",
        "outputId": "bfc538df-3c32-4734-c647-9b7bdd06333c"
      },
      "execution_count": null,
      "outputs": [
        {
          "output_type": "stream",
          "name": "stdout",
          "text": [
            "The range of the data is:  21\n"
          ]
        }
      ]
    },
    {
      "cell_type": "markdown",
      "source": [
        "Task 5: Create a Pandas Series with values [5, 10, 15, 20]. Calculate and print\n",
        "# the variance and standard deviation."
      ],
      "metadata": {
        "id": "NKW-TTCpQiKr"
      }
    },
    {
      "cell_type": "code",
      "source": [
        "data = pd.Series([5,10,15,20])\n",
        "\n",
        "variance = data.var()\n",
        "standard_deviation = data.std()\n",
        "\n",
        "print(\"The variance of the data is : \",variance)\n",
        "print(\"The standard deviation of the data is: \",standard_deviation)"
      ],
      "metadata": {
        "colab": {
          "base_uri": "https://localhost:8080/"
        },
        "id": "-i-vHihPQjEu",
        "outputId": "306c9322-2579-45b1-dde5-6825652f1a59"
      },
      "execution_count": null,
      "outputs": [
        {
          "output_type": "stream",
          "name": "stdout",
          "text": [
            "The variance of the data is :  41.666666666666664\n",
            "The standard deviation of the data is:  6.454972243679028\n"
          ]
        }
      ]
    },
    {
      "cell_type": "code",
      "source": [
        "Names = ['Alice', 'Bob', 'Cathy', 'Dan', 'Erika']\n",
        "\n",
        "Scores = [56, 37, 27, 63, 90]\n",
        "\n",
        "##First plotting a pie chart\n",
        "plt.pie(Scores,  autopct = '%1.1f%%', pctdistance=0.75)\n",
        "\n",
        "# draw a white circle in the center of the pie chart which then creates a donut chart\n",
        "centre_circle = plt.Circle((0, 0), radius=0.45, fc='white')\n",
        "\n",
        "##Adding the circle we created above to our existing pie chart\n",
        "fig = plt.gca().add_artist(centre_circle)\n",
        "\n",
        "plt.legend(labels = Names, loc = 'upper right')\n",
        "\n",
        "plt.title('Donut Chart')\n",
        "\n",
        "plt.show()"
      ],
      "metadata": {
        "colab": {
          "base_uri": "https://localhost:8080/",
          "height": 428
        },
        "id": "vAgxwMjCTQ1X",
        "outputId": "e7ccc9e8-b960-4b94-9e76-de8436a61a2d"
      },
      "execution_count": null,
      "outputs": [
        {
          "output_type": "display_data",
          "data": {
            "text/plain": [
              "<Figure size 640x480 with 1 Axes>"
            ],
            "image/png": "[encoded data removed]"
          },
          "metadata": {}
        }
      ]
    }
  ]
}