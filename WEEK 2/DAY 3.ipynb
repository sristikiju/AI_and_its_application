{
  "nbformat": 4,
  "nbformat_minor": 0,
  "metadata": {
    "colab": {
      "provenance": []
    },
    "kernelspec": {
      "name": "python3",
      "display_name": "Python 3"
    },
    "language_info": {
      "name": "python"
    }
  },
  "cells": [
    {
      "cell_type": "markdown",
      "source": [
        "###Hands on practice: Linear algebra for all"
      ],
      "metadata": {
        "id": "IQxdgjRJ-zhy"
      }
    },
    {
      "cell_type": "markdown",
      "source": [
        "Exercise 1 : Working with scalars and vectors"
      ],
      "metadata": {
        "id": "zk0XcdeM-5kB"
      }
    },
    {
      "cell_type": "code",
      "execution_count": null,
      "metadata": {
        "colab": {
          "base_uri": "https://localhost:8080/"
        },
        "id": "7H63ugoE-tSq",
        "outputId": "7c2afa92-2690-4907-c423-96e9ce08ba49"
      },
      "outputs": [
        {
          "output_type": "stream",
          "name": "stdout",
          "text": [
            "scaler: 7\n",
            "vector: [3 5 7]\n",
            "Scaled Vector: [21 35 49]\n"
          ]
        }
      ],
      "source": [
        "import numpy as np\n",
        "\n",
        "#creating a scalar\n",
        "scaler=7\n",
        "print(\"scaler:\",scaler)\n",
        "\n",
        "#creating a vector\n",
        "vector=np.array([3,5,7])\n",
        "print(\"vector:\",vector)\n",
        "#scaling vector through a scaler aka.scaled vector\n",
        "scaled_vector=scaler*vector\n",
        "print(\"Scaled Vector:\",scaled_vector)\n"
      ]
    },
    {
      "cell_type": "markdown",
      "source": [
        "##Exercise 2: Vector addition and subtraction"
      ],
      "metadata": {
        "id": "Cy1dymRrE6U6"
      }
    },
    {
      "cell_type": "code",
      "source": [
        "vector1=np.array([2,4,7,])\n",
        "vector2=np.array([5,6,8])\n",
        "print(vector1+vector2)\n",
        "print(vector1-vector2)\n",
        "\n"
      ],
      "metadata": {
        "colab": {
          "base_uri": "https://localhost:8080/"
        },
        "id": "KSOzV3oAE_Tx",
        "outputId": "ad00069e-f2a1-4aa0-de34-c1248fb86422"
      },
      "execution_count": null,
      "outputs": [
        {
          "output_type": "stream",
          "name": "stdout",
          "text": [
            "[ 7 10 15]\n",
            "[-3 -2 -1]\n"
          ]
        }
      ]
    },
    {
      "cell_type": "markdown",
      "source": [
        "##Exercise 3: Matrix creation and basic operations"
      ],
      "metadata": {
        "id": "FXC2k-5LFv8z"
      }
    },
    {
      "cell_type": "code",
      "source": [
        "#Creating a matrix\n",
        "matrix1= np.array([[2,4],[5,7]])\n",
        "matrix2= np.array([[6,8],[9,11]])\n",
        "print(matrix1)\n",
        "print(matrix1+matrix2)#Adding matrix\n",
        "print(matrix1-matrix2)#subtracting matrix"
      ],
      "metadata": {
        "colab": {
          "base_uri": "https://localhost:8080/"
        },
        "id": "7JBe3OVtF1p4",
        "outputId": "dd863b7f-4411-4187-a5a4-728c49ada548"
      },
      "execution_count": null,
      "outputs": [
        {
          "output_type": "stream",
          "name": "stdout",
          "text": [
            "[[2 4]\n",
            " [5 7]]\n",
            "[[ 8 12]\n",
            " [14 18]]\n"
          ]
        }
      ]
    },
    {
      "cell_type": "markdown",
      "source": [
        "## Exercise 4:Matrix multiplication"
      ],
      "metadata": {
        "id": "DL7fkXfIHEox"
      }
    },
    {
      "cell_type": "code",
      "source": [
        "matrix1=np.array([[2,4],[5,7]])\n",
        "matrix2=np.array([[6,8],[9,12]])\n",
        "product=np.dot(matrix1,matrix2)\n",
        "print(product)\n",
        "\n"
      ],
      "metadata": {
        "colab": {
          "base_uri": "https://localhost:8080/"
        },
        "id": "GQX1uvUYHIEm",
        "outputId": "9abb1296-3527-4481-e668-82c519f23280"
      },
      "execution_count": null,
      "outputs": [
        {
          "output_type": "stream",
          "name": "stdout",
          "text": [
            "[[ 48  64]\n",
            " [ 93 124]]\n"
          ]
        }
      ]
    },
    {
      "cell_type": "code",
      "source": [
        "matrix1=np.array([[1,1],[2,2]])#a square gareko\n",
        "matrix2=np.array([[2,3],[4,5]])\n",
        "product=matrix1[0,0]*matrix2[0,0]+matrix1[0,1]*matrix2[1,0]#matrix multiplixcation from scratch\n",
        "print(product)\n",
        "product2=matrix1[0,0]*matrix2[0,1]+matrix1[0,1]*matrix2[1,1]\n",
        "print(product2)\n",
        "product3=matrix1[1,0]*matrix2[0,0]+matrix1[1,1]*matrix2[1,0]\n",
        "print(product3)\n",
        "product4=matrix1[1,0]*matrix2[0,1]+matrix1[1,1]*matrix2[1,1]\n",
        "print(product4)\n",
        "\n",
        "product=np.dot(matrix1,matrix2)\n",
        "print(product)\n"
      ],
      "metadata": {
        "colab": {
          "base_uri": "https://localhost:8080/"
        },
        "id": "AJvEP4B2K7EI",
        "outputId": "93be0cc9-4c35-4c67-dbbd-bf7de93d1216"
      },
      "execution_count": null,
      "outputs": [
        {
          "output_type": "stream",
          "name": "stdout",
          "text": [
            "6\n",
            "8\n",
            "12\n",
            "16\n",
            "[[ 6  8]\n",
            " [12 16]]\n"
          ]
        }
      ]
    },
    {
      "cell_type": "markdown",
      "source": [
        "##Exercise 5 :Identity Matrix and Transpose"
      ],
      "metadata": {
        "id": "lZiuT4ZPQN--"
      }
    },
    {
      "cell_type": "code",
      "source": [
        "identify=np.eye(10)\n",
        "print(identify)"
      ],
      "metadata": {
        "colab": {
          "base_uri": "https://localhost:8080/"
        },
        "id": "8UiPEDyzQVuS",
        "outputId": "b1a3d498-3c87-4abe-8557-12be4066d5a7"
      },
      "execution_count": null,
      "outputs": [
        {
          "output_type": "stream",
          "name": "stdout",
          "text": [
            "[[1. 0. 0. 0. 0. 0. 0. 0. 0. 0.]\n",
            " [0. 1. 0. 0. 0. 0. 0. 0. 0. 0.]\n",
            " [0. 0. 1. 0. 0. 0. 0. 0. 0. 0.]\n",
            " [0. 0. 0. 1. 0. 0. 0. 0. 0. 0.]\n",
            " [0. 0. 0. 0. 1. 0. 0. 0. 0. 0.]\n",
            " [0. 0. 0. 0. 0. 1. 0. 0. 0. 0.]\n",
            " [0. 0. 0. 0. 0. 0. 1. 0. 0. 0.]\n",
            " [0. 0. 0. 0. 0. 0. 0. 1. 0. 0.]\n",
            " [0. 0. 0. 0. 0. 0. 0. 0. 1. 0.]\n",
            " [0. 0. 0. 0. 0. 0. 0. 0. 0. 1.]]\n"
          ]
        }
      ]
    },
    {
      "cell_type": "code",
      "source": [
        "identify=np.eye(10)\n",
        "print(identify)"
      ],
      "metadata": {
        "colab": {
          "base_uri": "https://localhost:8080/"
        },
        "id": "hbvLZBPiQlfo",
        "outputId": "50d92129-df8a-41cf-a6c3-561e84be6032"
      },
      "execution_count": null,
      "outputs": [
        {
          "output_type": "stream",
          "name": "stdout",
          "text": [
            "[[1. 0.]\n",
            " [0. 1.]]\n"
          ]
        }
      ]
    },
    {
      "cell_type": "code",
      "source": [
        "identify=np.eye(2,dtype=int)\n",
        "print(identify)\n",
        "\n",
        "matrix1=np.array([[1,1],[2,2]])\n",
        "print(matrix1.T)\n"
      ],
      "metadata": {
        "colab": {
          "base_uri": "https://localhost:8080/"
        },
        "id": "XdSAwqPkQ3uw",
        "outputId": "75833036-0be9-4d06-8556-c8626794142b"
      },
      "execution_count": null,
      "outputs": [
        {
          "output_type": "stream",
          "name": "stdout",
          "text": [
            "[[1 0]\n",
            " [0 1]]\n",
            "[[1 2]\n",
            " [1 2]]\n"
          ]
        }
      ]
    },
    {
      "cell_type": "code",
      "source": [
        "identify=np.eye(2,dtype=int)\n",
        "print(identify)\n",
        "\n",
        "matrix1=np.array([[1,1],[2,2]])\n",
        "print(matrix1.T)"
      ],
      "metadata": {
        "id": "tCBFUFLhSsHR"
      },
      "execution_count": null,
      "outputs": []
    },
    {
      "cell_type": "markdown",
      "source": [
        "##Exercise 6 :Matrix inverse"
      ],
      "metadata": {
        "id": "aUTkOJNNS9vY"
      }
    },
    {
      "cell_type": "code",
      "source": [
        "matrix1=np.array([[2,4],[5,7]])\n",
        "print(np.linalg.inv(matrix1))"
      ],
      "metadata": {
        "colab": {
          "base_uri": "https://localhost:8080/"
        },
        "id": "-mND4dBDTBwy",
        "outputId": "4b925277-82bc-45af-8bd5-39d3130aa1b7"
      },
      "execution_count": null,
      "outputs": [
        {
          "output_type": "stream",
          "name": "stdout",
          "text": [
            "[[-1.16666667  0.66666667]\n",
            " [ 0.83333333 -0.33333333]]\n"
          ]
        }
      ]
    },
    {
      "cell_type": "code",
      "source": [
        "matrix1=np.array([[2,4],[5,7]])\n",
        "inverse=np.linalg.inv(matrix1)\n",
        "mat_inv=np.dot(matrix1,inverse)\n",
        "print(mat_inv)"
      ],
      "metadata": {
        "colab": {
          "base_uri": "https://localhost:8080/",
          "height": 193
        },
        "id": "dRkyUe0JT8zC",
        "outputId": "3c8b1922-8ac3-48ff-d6a9-3682c5b9d9dc"
      },
      "execution_count": null,
      "outputs": [
        {
          "output_type": "error",
          "ename": "NameError",
          "evalue": "name 'np' is not defined",
          "traceback": [
            "\u001b[0;31m---------------------------------------------------------------------------\u001b[0m",
            "\u001b[0;31mNameError\u001b[0m                                 Traceback (most recent call last)",
            "\u001b[0;32m<ipython-input-1-9261cc1d162a>\u001b[0m in \u001b[0;36m<cell line: 0>\u001b[0;34m()\u001b[0m\n\u001b[0;32m----> 1\u001b[0;31m \u001b[0mmatrix1\u001b[0m\u001b[0;34m=\u001b[0m\u001b[0mnp\u001b[0m\u001b[0;34m.\u001b[0m\u001b[0marray\u001b[0m\u001b[0;34m(\u001b[0m\u001b[0;34m[\u001b[0m\u001b[0;34m[\u001b[0m\u001b[0;36m2\u001b[0m\u001b[0;34m,\u001b[0m\u001b[0;36m4\u001b[0m\u001b[0;34m]\u001b[0m\u001b[0;34m,\u001b[0m\u001b[0;34m[\u001b[0m\u001b[0;36m5\u001b[0m\u001b[0;34m,\u001b[0m\u001b[0;36m7\u001b[0m\u001b[0;34m]\u001b[0m\u001b[0;34m]\u001b[0m\u001b[0;34m)\u001b[0m\u001b[0;34m\u001b[0m\u001b[0;34m\u001b[0m\u001b[0m\n\u001b[0m\u001b[1;32m      2\u001b[0m \u001b[0minverse\u001b[0m\u001b[0;34m=\u001b[0m\u001b[0mnp\u001b[0m\u001b[0;34m.\u001b[0m\u001b[0mlinalg\u001b[0m\u001b[0;34m.\u001b[0m\u001b[0minv\u001b[0m\u001b[0;34m(\u001b[0m\u001b[0mmatrix1\u001b[0m\u001b[0;34m)\u001b[0m\u001b[0;34m\u001b[0m\u001b[0;34m\u001b[0m\u001b[0m\n\u001b[1;32m      3\u001b[0m \u001b[0mmat_inv\u001b[0m\u001b[0;34m=\u001b[0m\u001b[0mnp\u001b[0m\u001b[0;34m.\u001b[0m\u001b[0mdot\u001b[0m\u001b[0;34m(\u001b[0m\u001b[0mmatrix1\u001b[0m\u001b[0;34m,\u001b[0m\u001b[0minverse\u001b[0m\u001b[0;34m)\u001b[0m\u001b[0;34m\u001b[0m\u001b[0;34m\u001b[0m\u001b[0m\n\u001b[1;32m      4\u001b[0m \u001b[0mprint\u001b[0m\u001b[0;34m(\u001b[0m\u001b[0mmat_inv\u001b[0m\u001b[0;34m)\u001b[0m\u001b[0;34m\u001b[0m\u001b[0;34m\u001b[0m\u001b[0m\n",
            "\u001b[0;31mNameError\u001b[0m: name 'np' is not defined"
          ]
        }
      ]
    },
    {
      "cell_type": "markdown",
      "source": [
        "##create a vector[7,8,9] and multiply by a scalar of 2.Print the result"
      ],
      "metadata": {
        "id": "Yo9Cp4P83-BV"
      }
    },
    {
      "cell_type": "code",
      "source": [
        "import numpy as np\n",
        "vector=np.array([7,8,9])\n",
        "result=vector*2\n",
        "print(result)\n",
        "\n"
      ],
      "metadata": {
        "colab": {
          "base_uri": "https://localhost:8080/"
        },
        "id": "7ZCxKYwi39U4",
        "outputId": "a5476d12-b52f-4b37-a7f2-6b0b6a9ef574"
      },
      "execution_count": null,
      "outputs": [
        {
          "output_type": "stream",
          "name": "stdout",
          "text": [
            "[14 16 18]\n"
          ]
        }
      ]
    },
    {
      "cell_type": "markdown",
      "source": [
        "##Create two vectors [3,4] and [1,2]. Compute and print their sum and difference"
      ],
      "metadata": {
        "id": "5V_zpZOt6Htp"
      }
    },
    {
      "cell_type": "code",
      "source": [
        "import numpy as np\n",
        "vector=np.array([7,8,9])\n",
        "result=vector*2\n",
        "print(result)\n"
      ],
      "metadata": {
        "colab": {
          "base_uri": "https://localhost:8080/"
        },
        "id": "OJvtidPS6C28",
        "outputId": "4655bb21-45df-4095-c170-4fb0b83730c6"
      },
      "execution_count": null,
      "outputs": [
        {
          "output_type": "stream",
          "name": "stdout",
          "text": [
            "[6 8]\n",
            "[0 0]\n"
          ]
        }
      ]
    },
    {
      "cell_type": "markdown",
      "source": [
        "## 3. Create two 2X2 matrices [[0,1],[2,3]]and [[4,5],[6,7]].Compute and print teir sum.\n",
        "\n"
      ],
      "metadata": {
        "id": "XrbDSGIr7q_u"
      }
    },
    {
      "cell_type": "code",
      "source": [
        "\n",
        "matrix1 = np.array([[0, 1], [2, 3]])\n",
        "matrix2 = np.array([[4, 5], [6, 7]])\n",
        "sum_matrix = matrix1 + matrix2\n",
        "\n",
        "print(sum_matrix)"
      ],
      "metadata": {
        "colab": {
          "base_uri": "https://localhost:8080/"
        },
        "id": "WP5ccYWS7n-P",
        "outputId": "98a11f8f-ee51-48a4-f9b3-05742d979fe3"
      },
      "execution_count": null,
      "outputs": [
        {
          "output_type": "stream",
          "name": "stdout",
          "text": [
            "[[ 4  6]\n",
            " [ 8 10]]\n"
          ]
        }
      ]
    },
    {
      "cell_type": "markdown",
      "source": [
        "##4.Create two 2X2 matrices[[2,1],[0,3]] and [[1,2],[3,4]].Compute and print their matrix product.\n"
      ],
      "metadata": {
        "id": "GAyPe71R9EGB"
      }
    },
    {
      "cell_type": "code",
      "source": [
        "\n",
        "\n",
        "matrix1 = np.array([[2, 1], [0, 3]])\n",
        "matrix2 = np.array([[1, 2], [3, 4]])\n",
        "product = np.dot(matrix1, matrix2)\n",
        "\n",
        "print(product)"
      ],
      "metadata": {
        "colab": {
          "base_uri": "https://localhost:8080/"
        },
        "id": "2Z_qglu786aO",
        "outputId": "ced2bb7c-6c6d-48f2-e96d-c92c85cf20a9"
      },
      "execution_count": null,
      "outputs": [
        {
          "output_type": "stream",
          "name": "stdout",
          "text": [
            "[[ 5  8]\n",
            " [ 9 12]]\n"
          ]
        }
      ]
    },
    {
      "cell_type": "markdown",
      "source": [
        "##5.Create a 2x3 matrix [[5,10,15],[20,25,30]].Compute and print its transpose and a 3X3 identity **matrix**"
      ],
      "metadata": {
        "id": "wkNpUSaF-lNJ"
      }
    },
    {
      "cell_type": "code",
      "source": [
        "\n",
        "A = np.array([[5, 10, 15], [20, 25, 30]])\n",
        "transpose_A = A.T\n",
        "\n",
        "identity_3x3 = np.identity(3)\n",
        "\n",
        "\n",
        "print(\"Original Matrix (2x3):\")\n",
        "print(A)\n",
        "\n",
        "print(\"\\nTranspose of the Matrix (3x2):\")\n",
        "print(transpose_A)\n",
        "\n",
        "print(\"\\n3x3 Identity Matrix:\")\n",
        "print(identity_3x3)\n"
      ],
      "metadata": {
        "colab": {
          "base_uri": "https://localhost:8080/"
        },
        "id": "z71rTqfd_HK6",
        "outputId": "a7ad8aea-a253-483d-a4c2-7d69fd2f6045"
      },
      "execution_count": null,
      "outputs": [
        {
          "output_type": "stream",
          "name": "stdout",
          "text": [
            "Original Matrix (2x3):\n",
            "[[ 5 10 15]\n",
            " [20 25 30]]\n",
            "\n",
            "Transpose of the Matrix (3x2):\n",
            "[[ 5 20]\n",
            " [10 25]\n",
            " [15 30]]\n",
            "\n",
            "3x3 Identity Matrix:\n",
            "[[1. 0. 0.]\n",
            " [0. 1. 0.]\n",
            " [0. 0. 1.]]\n"
          ]
        }
      ]
    },
    {
      "cell_type": "code",
      "source": [
        "\n",
        "matrix = np.array([[5, 10, 15], [20, 25, 30]])\n",
        "transpose_matrix = matrix.T\n",
        "identity_matrix = np.identity(3)\n",
        "print(\"Original Matrix (2x3):\")\n",
        "print(matrix)\n",
        "print(\"\\nTranspose of the Matrix (3x2):\")\n",
        "print(transpose_matrix)\n",
        "\n",
        "print(\"\\n3x3 Identity Matrix:\")\n",
        "print(identity_matrix)"
      ],
      "metadata": {
        "colab": {
          "base_uri": "https://localhost:8080/"
        },
        "id": "1R3fC1O3A50K",
        "outputId": "d84c256a-5d5b-470d-c47f-3bc5d7e38438"
      },
      "execution_count": null,
      "outputs": [
        {
          "output_type": "stream",
          "name": "stdout",
          "text": [
            "Original Matrix (2x3):\n",
            "[[ 5 10 15]\n",
            " [20 25 30]]\n",
            "\n",
            "Transpose of the Matrix (3x2):\n",
            "[[ 5 20]\n",
            " [10 25]\n",
            " [15 30]]\n",
            "\n",
            "3x3 Identity Matrix:\n",
            "[[1. 0. 0.]\n",
            " [0. 1. 0.]\n",
            " [0. 0. 1.]]\n"
          ]
        }
      ]
    }
  ]
}