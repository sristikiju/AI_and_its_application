{
  "nbformat": 4,
  "nbformat_minor": 0,
  "metadata": {
    "colab": {
      "provenance": []
    },
    "kernelspec": {
      "name": "python3",
      "display_name": "Python 3"
    },
    "language_info": {
      "name": "python"
    }
  },
  "cells": [
    {
      "cell_type": "markdown",
      "source": [
        "###Week-2 Code-Alongs(basic Statistics for AI)\n"
      ],
      "metadata": {
        "id": "dx65r_IvNKUL"
      }
    },
    {
      "cell_type": "code",
      "source": [],
      "metadata": {
        "id": "j8xYHrUpsqvJ"
      },
      "execution_count": null,
      "outputs": []
    },
    {
      "cell_type": "markdown",
      "source": [
        "###DESCRIPTIVE STATS"
      ],
      "metadata": {
        "id": "tMziMDbhWChw"
      }
    },
    {
      "cell_type": "markdown",
      "source": [
        "##Measure of central tendency"
      ],
      "metadata": {
        "id": "PZjc6Fr-TzJ0"
      }
    },
    {
      "cell_type": "markdown",
      "source": [],
      "metadata": {
        "id": "6ecQNOeiNHAC"
      }
    },
    {
      "cell_type": "markdown",
      "source": [
        "##Exercise 1: Calculating the mean"
      ],
      "metadata": {
        "id": "OubTRXNuQUhh"
      }
    },
    {
      "cell_type": "code",
      "execution_count": null,
      "metadata": {
        "colab": {
          "base_uri": "https://localhost:8080/"
        },
        "id": "-LUnQ3zGNGCr",
        "outputId": "7ccde5e7-57c7-4f8c-c632-0665e17a503c"
      },
      "outputs": [
        {
          "output_type": "stream",
          "name": "stdout",
          "text": [
            "Original Data:  0     2\n",
            "1     4\n",
            "2     6\n",
            "3     8\n",
            "4    10\n",
            "dtype: int64\n",
            "Mean of the data: 6.0\n"
          ]
        }
      ],
      "source": [
        "import pandas as pd\n",
        "\n",
        "data = pd.Series([2,4,6,8,10])\n",
        "print(\"Original Data: \",data)\n",
        "\n",
        "mean = data.mean()\n",
        "print(\"Mean of the data:\",mean)\n",
        "\n"
      ]
    },
    {
      "cell_type": "markdown",
      "source": [
        "## EXercise 2: CAlculating the median"
      ],
      "metadata": {
        "id": "9J97ysMyRv72"
      }
    },
    {
      "cell_type": "code",
      "source": [
        "import pandas as pd\n",
        "\n",
        "data = pd.Series([2,4,6,8,10])\n",
        "print(\"Original Data: \",data)\n",
        "\n",
        "median = data.median()\n",
        "print(\"Median of the data:\",median)\n"
      ],
      "metadata": {
        "colab": {
          "base_uri": "https://localhost:8080/"
        },
        "id": "Q52SENOqRsFu",
        "outputId": "9af5e445-7c02-4f8d-c865-4a998ed32021"
      },
      "execution_count": null,
      "outputs": [
        {
          "output_type": "stream",
          "name": "stdout",
          "text": [
            "Original Data:  0     2\n",
            "1     4\n",
            "2     6\n",
            "3     8\n",
            "4    10\n",
            "dtype: int64\n",
            "Median of the data: 6.0\n"
          ]
        }
      ]
    },
    {
      "cell_type": "code",
      "source": [
        "##Calculating mode\n",
        "\n",
        "import pandas as pd\n",
        "\n",
        "data = pd.Series([2,2,6,8,10])\n",
        "print(\"Original Data: \",data)\n",
        "\n",
        "mode = data.mode()[0]\n",
        "print(\"Mode of the data:\",mode)"
      ],
      "metadata": {
        "colab": {
          "base_uri": "https://localhost:8080/"
        },
        "id": "zy7pF9y0SXoT",
        "outputId": "bbc8f243-a060-4a72-e680-3bba3b54571c"
      },
      "execution_count": null,
      "outputs": [
        {
          "output_type": "stream",
          "name": "stdout",
          "text": [
            "Original Data:  0     2\n",
            "1     2\n",
            "2     6\n",
            "3     8\n",
            "4    10\n",
            "dtype: int64\n",
            "Mode of the data: 2\n"
          ]
        }
      ]
    },
    {
      "cell_type": "markdown",
      "source": [
        "##2.Measure of variance"
      ],
      "metadata": {
        "id": "S3UcytZ-TpmT"
      }
    },
    {
      "cell_type": "markdown",
      "source": [
        "##Exercise 4 :Calculating range"
      ],
      "metadata": {
        "id": "RjP0RHYgTbSO"
      }
    },
    {
      "cell_type": "code",
      "source": [
        "data= pd.Series([2,4,5,8,10])\n",
        "\n",
        "range = data.max()-data.min()\n",
        "print(\"The range of the data is: \",range)\n"
      ],
      "metadata": {
        "colab": {
          "base_uri": "https://localhost:8080/"
        },
        "id": "UasuqydhTGqi",
        "outputId": "9045ca42-83cb-45cc-d3f6-0f235e86ecb6"
      },
      "execution_count": null,
      "outputs": [
        {
          "output_type": "stream",
          "name": "stdout",
          "text": [
            "The range of the data is:  8\n"
          ]
        }
      ]
    },
    {
      "cell_type": "code",
      "source": [],
      "metadata": {
        "id": "t7Kqe0TDUpCz"
      },
      "execution_count": null,
      "outputs": []
    },
    {
      "cell_type": "markdown",
      "source": [
        "##Exercise 5: calculating Variance and Standard Deviation"
      ],
      "metadata": {
        "id": "Q649JMzMUrHu"
      }
    },
    {
      "cell_type": "code",
      "source": [
        "data = pd.Series([2,4,5,8,10])\n",
        "\n",
        "variance = data.var()\n",
        "standard_deviation = data.std()\n",
        "\n",
        "print(\"The variance of the data is : \",variance)\n",
        "print(\"The standard deviation of the data is: \",standard_deviation)"
      ],
      "metadata": {
        "colab": {
          "base_uri": "https://localhost:8080/"
        },
        "id": "4ybAZpa3U1c_",
        "outputId": "c3b4e2c3-049b-46d9-d419-cfc97e017591"
      },
      "execution_count": null,
      "outputs": [
        {
          "output_type": "stream",
          "name": "stdout",
          "text": [
            "The variance of the data is :  10.2\n",
            "The standard deviation of the data is:  3.1937438845342623\n"
          ]
        }
      ]
    },
    {
      "cell_type": "code",
      "source": [],
      "metadata": {
        "id": "iaTgmDP5VkQl"
      },
      "execution_count": null,
      "outputs": []
    },
    {
      "cell_type": "markdown",
      "source": [
        "## Exercise 6: Visualizing Data with Matplotlib"
      ],
      "metadata": {
        "id": "bVv-HRgiVlRF"
      }
    },
    {
      "cell_type": "code",
      "source": [
        "import matplotlib.pyplot as plt\n",
        "import pandas as pd\n",
        "\n",
        "data = pd.DataFrame({\n",
        "    \"Scores\": [56, 23, 78, 58, 98, 25, 48, 56, 25]\n",
        "})\n",
        "\n",
        "data.boxplot(column=\"Scores\")\n",
        "plt.title(\"Boxplot of Scores\")\n",
        "plt.ylabel(\"Score Values\")\n",
        "plt.savefig(\"boxplot_scores.png\")\n",
        "\n",
        "plt.show()\n"
      ],
      "metadata": {
        "colab": {
          "base_uri": "https://localhost:8080/",
          "height": 452
        },
        "id": "Q557miIfVtsR",
        "outputId": "52746c0a-a43c-4f6e-ba11-6571d187414d"
      },
      "execution_count": null,
      "outputs": [
        {
          "output_type": "display_data",
          "data": {
            "text/plain": [
              "<Figure size 640x480 with 1 Axes>"
            ],
            "image/png": "[encoded data removed]"
          },
          "metadata": {}
        }
      ]
    }
  ]
}