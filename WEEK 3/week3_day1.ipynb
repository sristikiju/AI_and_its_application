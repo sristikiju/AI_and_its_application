{
  "nbformat": 4,
  "nbformat_minor": 0,
  "metadata": {
    "colab": {
      "provenance": []
    },
    "kernelspec": {
      "name": "python3",
      "display_name": "Python 3"
    },
    "language_info": {
      "name": "python"
    }
  },
  "cells": [
    {
      "cell_type": "markdown",
      "source": [
        "##Traditional Programming vs MAchine  learning"
      ],
      "metadata": {
        "id": "zWQ_ai1eA22t"
      }
    },
    {
      "cell_type": "code",
      "execution_count": null,
      "metadata": {
        "id": "OAa5cW8EAAC2",
        "colab": {
          "base_uri": "https://localhost:8080/"
        },
        "outputId": "59981f41-413c-4867-c199-2fd6657d982f"
      },
      "outputs": [
        {
          "output_type": "stream",
          "name": "stdout",
          "text": [
            "True\n"
          ]
        }
      ],
      "source": [
        "#traditional Programming you give the rules and data and get output\n",
        "#machine learning:you give the data and output and ML will find the rules.\n",
        "\n",
        "def is_even(num):\n",
        " return num % 2==0\n",
        "print(is_even(2))\n",
        "#ML thinking(pseudocode)\n",
        "# data:[2,4,6,8,10]    #even numbers\n",
        "# data:[1,3,5,7,9]      #odd numbers\n",
        "# goal: let the ML model find patterns and classify new numbers"
      ]
    },
    {
      "cell_type": "code",
      "source": [
        "#code for change in linkedin and alex bhanne lai yt ma follow garne"
      ],
      "metadata": {
        "id": "8Mu4OEPVBSyB"
      },
      "execution_count": null,
      "outputs": []
    },
    {
      "cell_type": "markdown",
      "source": [
        "##predicting odd vs even using decision tree\n"
      ],
      "metadata": {
        "id": "C-vDEYRpExzk"
      }
    },
    {
      "cell_type": "code",
      "source": [
        "import pandas as pd\n",
        "from sklearn.tree import DecisionTreeClassifier   #library and model\n",
        "#Preparing Data\n",
        "x=pd.DataFrame({'number':[1,2,3,4,5,7,8,9,10,11]})                    #features\n",
        "y=['odd','even','odd','even','odd','odd','even','odd','even','odd']      #Target #overfitting vaneko data kam vo but testing ma pooor perfrom garxa\n",
        "#creating a model\n",
        "model=DecisionTreeClassifier()\n",
        "#Training model\n",
        "model.fit(x,y)   #method ho\n",
        "#making predictions\n",
        "print(model.predict([[14]]))"
      ],
      "metadata": {
        "colab": {
          "base_uri": "https://localhost:8080/"
        },
        "id": "dyNGba7QEnxE",
        "outputId": "b89be1d3-3951-4ebd-cd3a-6678193c6d28"
      },
      "execution_count": null,
      "outputs": [
        {
          "output_type": "stream",
          "name": "stdout",
          "text": [
            "['odd']\n"
          ]
        },
        {
          "output_type": "stream",
          "name": "stderr",
          "text": [
            "/usr/local/lib/python3.11/dist-packages/sklearn/utils/validation.py:2739: UserWarning: X does not have valid feature names, but DecisionTreeClassifier was fitted with feature names\n",
            "  warnings.warn(\n"
          ]
        }
      ]
    },
    {
      "cell_type": "markdown",
      "source": [
        "##cam machine learning generalize well with few data points is this good use cas efor ML\n",
        "###use claude its good for coding and kimi as well,drog"
      ],
      "metadata": {
        "id": "vyTjfZp1JoV1"
      }
    },
    {
      "cell_type": "code",
      "source": [
        "import pandas as pd\n",
        "from sklearn.tree import DecisionTreeClassifier\n",
        "\n",
        "\n",
        "data = {\n",
        "    'temperature': [15, 16, 18, 20, 22, 23, 25, 27, 30, 33],\n",
        "    'label': ['Cold', 'Cold', 'Warm', 'Warm', 'Warm', 'Warm', 'Hot', 'Hot', 'Hot', 'Hot']\n",
        "}\n",
        "\n",
        "\n",
        "df = pd.DataFrame(data)\n",
        "\n",
        "\n",
        "df.to_csv(\"temperature_labels.csv\", index=False)\n",
        "\n",
        "\n",
        "df = pd.read_csv(\"temperature_labels.csv\")\n",
        "\n",
        "\n",
        "x = df[['temperature']]\n",
        "y = df['label']\n",
        "\n",
        "model = DecisionTreeClassifier()\n",
        "model.fit(x, y)\n",
        "test_temp = 31\n",
        "\n",
        "prediction = model.predict([[test_temp]])\n",
        "print\n",
        "print(df)\n",
        "print(f\"\\n {test_temp}°C: {prediction[0]}\")\n"
      ],
      "metadata": {
        "colab": {
          "base_uri": "https://localhost:8080/"
        },
        "id": "HxUTabKqD1zp",
        "outputId": "8b4727bd-a6b0-424c-9987-ab50b9537602"
      },
      "execution_count": null,
      "outputs": [
        {
          "output_type": "stream",
          "name": "stdout",
          "text": [
            "   temperature label\n",
            "0           15  Cold\n",
            "1           16  Cold\n",
            "2           18  Warm\n",
            "3           20  Warm\n",
            "4           22  Warm\n",
            "5           23  Warm\n",
            "6           25   Hot\n",
            "7           27   Hot\n",
            "8           30   Hot\n",
            "9           33   Hot\n",
            "\n",
            " 31°C: Hot\n"
          ]
        },
        {
          "output_type": "stream",
          "name": "stderr",
          "text": [
            "/usr/local/lib/python3.11/dist-packages/sklearn/utils/validation.py:2739: UserWarning: X does not have valid feature names, but DecisionTreeClassifier was fitted with feature names\n",
            "  warnings.warn(\n"
          ]
        }
      ]
    },
    {
      "cell_type": "code",
      "source": [
        "\n",
        "\n",
        "import pandas as pd\n",
        "from sklearn.tree import DecisionTreeClassifier\n",
        "\n",
        "data = {\n",
        "    'weight': [45, 55, 60, 65, 75, 85, 95],\n",
        "    'label': ['Underweight', 'Underweight', 'Normal', 'Normal', 'Overweight', 'Overweight', 'Obese']\n",
        "}\n",
        "\n",
        "df = pd.DataFrame(data)\n",
        "\n",
        "df.to_csv(\"weight_labels.csv\", index=False)\n",
        "\n",
        "df = pd.read_csv(\"weight_labels.csv\")\n",
        "x = df[['weight']]\n",
        "y = df['label']\n",
        "\n",
        "model = DecisionTreeClassifier()\n",
        "model.fit(x, y)\n",
        "\n",
        "test_weight = 76\n",
        "prediction = model.predict([[test_weight]])\n",
        "\n",
        "print\n",
        "print(df)\n",
        "print(f\"\\n {test_weight} kg: {prediction[0]}\")\n"
      ],
      "metadata": {
        "colab": {
          "base_uri": "https://localhost:8080/"
        },
        "id": "LoP238V8npAA",
        "outputId": "d73ba51b-a2fa-4886-fa89-091bdcfeb4e1"
      },
      "execution_count": null,
      "outputs": [
        {
          "output_type": "stream",
          "name": "stdout",
          "text": [
            "   weight        label\n",
            "0      45  Underweight\n",
            "1      55  Underweight\n",
            "2      60       Normal\n",
            "3      65       Normal\n",
            "4      75   Overweight\n",
            "5      85   Overweight\n",
            "6      95        Obese\n",
            "\n",
            " 76 kg: Overweight\n"
          ]
        },
        {
          "output_type": "stream",
          "name": "stderr",
          "text": [
            "/usr/local/lib/python3.11/dist-packages/sklearn/utils/validation.py:2739: UserWarning: X does not have valid feature names, but DecisionTreeClassifier was fitted with feature names\n",
            "  warnings.warn(\n"
          ]
        }
      ]
    }
  ]
}