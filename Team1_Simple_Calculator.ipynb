{
  "nbformat": 4,
  "nbformat_minor": 0,
  "metadata": {
    "colab": {
      "provenance": []
    },
    "kernelspec": {
      "name": "python3",
      "display_name": "Python 3"
    },
    "language_info": {
      "name": "python"
    }
  },
  "cells": [
    {
      "cell_type": "code",
      "execution_count": 1,
      "metadata": {
        "colab": {
          "base_uri": "https://localhost:8080/"
        },
        "id": "9OBk1LAfdF3U",
        "outputId": "aa96cd53-26cb-487b-d9a4-a4ba1bccc8ad"
      },
      "outputs": [
        {
          "output_type": "stream",
          "name": "stdout",
          "text": [
            "Writing operations.py\n"
          ]
        }
      ],
      "source": [
        "%%writefile operations.py\n",
        "##Saving the file as operations.py (functions bhaeko file lai operations.py bhanera save garne)\n",
        "\n",
        "#Creating functions for simple operations (sabai operations ko lagi function banaune (add, subtractn, multiply, divide, power))\n",
        "\n",
        "## Function to add two numbers (add garne function)\n",
        "def add_nums(number_1, number_2):\n",
        "  return number_1 + number_2\n",
        "\n",
        "## Function to subtract two numbers (subtract garne function)\n",
        "def subtract_nums(number_1, number_2):\n",
        "  return number_1 - number_2\n",
        "\n",
        "## Function to multiply two numbers (multiply garne function)\n",
        "def multiply_nums(number_1, number_2):\n",
        "  return number_1 * number_2\n",
        "\n",
        "## Function to divide two numbers (divide garne function)\n",
        "def divide_nums(number_1, number_2):\n",
        "  return number_1 / number_2\n",
        "\n",
        "## Function to get the power/exponent of a number (power kojne function)\n",
        "def power_nums(number_1, number_2):\n",
        "  return number_1 ** number_2"
      ]
    },
    {
      "cell_type": "code",
      "source": [
        "#Simple calculator\n",
        "\n",
        "##Importing the operations module we created and saved as 'ops'\n",
        "import operations as ops\n",
        "\n",
        "##Using the try and except functions to print any possible errors ('try' and 'except' function use garne, jasle error cha bhane dekhaucha)\n",
        "try:\n",
        "  #Asking the user to enter the operation they want to use (user lai manlageko operator sodne)\n",
        "  operator = str(input(\"Enter an operation to be used. Choose a symbol from below: \\n For addition: + \\n For subtraction: - \\n For multiplication: * \\n For division: / \\n For power: **\\n\"))\n",
        "\n",
        "  #Getting our two numbers a9s user input (hamile chaheko 2 numbers user bata line)\n",
        "  number_1 = float(input(\"Enter first number: \"))\n",
        "  number_2 = float(input(\"Enter second number: \"))\n",
        "\n",
        "  #Using the 'if-elif' to check which operation to use ('if-elif' use garera operation choose garne)\n",
        "  if operator == '+':\n",
        "    print(f\"\\n{number_1} + {number_2} =\", ops.add_nums(number_1, number_2))\n",
        "\n",
        "  elif operator == '-':\n",
        "    print(f\"\\n{number_1} - {number_2} =\", ops.subtract_nums(number_1, number_2))\n",
        "\n",
        "  elif operator == '*':\n",
        "    print(f\"\\n{number_1} x {number_2} =\", ops.multiply_nums(number_1, number_2))\n",
        "\n",
        "  elif operator == '/':\n",
        "    print(f\"\\n{number_1} ÷ {number_2} =\", ops.divide_nums(number_1, number_2))\n",
        "\n",
        "  elif operator == '**':\n",
        "    print(f\"\\n{number_1}^{number_2} =\", ops.power_nums(number_1, number_2))\n",
        "\n",
        "  else:\n",
        "    print(f\"\\n{operator} is not a valid operator.\")\n",
        "\n",
        "#In case of division, if number_2 is 0, we get zero division error and show a warning for that\n",
        "#number_2 zero bhaema error dekhaucha\n",
        "except ZeroDivisionError:\n",
        "  print(\"\\nCannot divide by 0, second number cannot be 0 in case of division!\")\n",
        "\n",
        "#If number_1 or number_2 are not decimal ot integer, we get and error and show a warning for that\n",
        "#number_1 ra number_2 integer wa decimal nabhaema error dekhaucha\n",
        "except ValueError:\n",
        "  print(\"\\nNumber cannot be string, please enter a decimal or integer value.\")"
      ],
      "metadata": {
        "id": "wQROGabodquY",
        "colab": {
          "base_uri": "https://localhost:8080/"
        },
        "outputId": "3e0329ff-2f17-4e94-d190-e40b685a46f7"
      },
      "execution_count": 2,
      "outputs": [
        {
          "output_type": "stream",
          "name": "stdout",
          "text": [
            "Enter an operation to be used. Choose a symbol from below: \n",
            " For addition: + \n",
            " For subtraction: - \n",
            " For multiplication: * \n",
            " For division: / \n",
            " For power: **\n",
            "/\n",
            "Enter first number: 2\n",
            "Enter second number: 2\n",
            "\n",
            "2.0 ÷ 2.0 = 1.0\n"
          ]
        }
      ]
    },
    {
      "cell_type": "code",
      "source": [
        "1"
      ],
      "metadata": {
        "id": "YRXwO8GpDh-O"
      },
      "execution_count": null,
      "outputs": []
    },
    {
      "cell_type": "code",
      "source": [],
      "metadata": {
        "id": "B4urgRsDb547"
      },
      "execution_count": null,
      "outputs": []
    },
    {
      "cell_type": "code",
      "source": [],
      "metadata": {
        "id": "G_UbZ7Ek6i4P"
      },
      "execution_count": null,
      "outputs": []
    }
  ]
}